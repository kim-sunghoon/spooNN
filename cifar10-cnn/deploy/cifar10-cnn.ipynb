{
 "cells": [
  {
   "cell_type": "markdown",
   "metadata": {},
   "source": [
    "# Cifar10-CNN\n",
    "This notebook shows how to perform handwritten digit classification using the CNN implemented with spooNN."
   ]
  },
  {
   "cell_type": "markdown",
   "metadata": {},
   "source": [
    "## 1. Preparation\n",
    "First we import all the necessary components:"
   ]
  },
  {
   "cell_type": "code",
   "execution_count": 1,
   "metadata": {},
   "outputs": [
    {
     "data": {
      "application/javascript": [
       "\n",
       "require(['notebook/js/codecell'], function(codecell) {\n",
       "  codecell.CodeCell.options_default.highlight_modes[\n",
       "      'magic_text/x-csrc'] = {'reg':[/^%%microblaze/]};\n",
       "  Jupyter.notebook.events.one('kernel_ready.Kernel', function(){\n",
       "      Jupyter.notebook.get_cells().map(function(cell){\n",
       "          if (cell.cell_type == 'code'){ cell.auto_highlight(); } }) ;\n",
       "  });\n",
       "});\n"
      ]
     },
     "metadata": {},
     "output_type": "display_data"
    }
   ],
   "source": [
    "import sys\n",
    "import math\n",
    "import numpy as np\n",
    "import os\n",
    "import time\n",
    "from PIL import Image\n",
    "from matplotlib import pyplot\n",
    "import cv2\n",
    "from datetime import datetime\n",
    "from pynq import Xlnk\n",
    "from pynq import Overlay\n",
    "from pynq.mmio import MMIO\n",
    "from loader import loader\n",
    "import scipy.misc\n",
    "from IPython.display import display"
   ]
  },
  {
   "cell_type": "markdown",
   "metadata": {},
   "source": [
    "Next, we get the overlay that is in the same directory as this notebook. This is loaded onto the FPGA fabric on the PYNQ.\n",
    "Then, a handle to the spooNN IP is obtained via nn_ctrl. Using this, we are able to write to the registers of the IP to configure it."
   ]
  },
  {
   "cell_type": "code",
   "execution_count": 2,
   "metadata": {},
   "outputs": [
    {
     "name": "stdout",
     "output_type": "stream",
     "text": [
      "Got nn_ctrl!\n"
     ]
    }
   ],
   "source": [
    "OVERLAY_PATH = 'cifar10-1W5A_noaug.bit'\n",
    "overlay = Overlay(OVERLAY_PATH)\n",
    "dma = overlay.axi_dma_0\n",
    "\n",
    "xlnk = Xlnk()\n",
    "nn_ctrl = MMIO(0x43c00000, length=1024)\n",
    "print('Got nn_ctrl!')"
   ]
  },
  {
   "cell_type": "markdown",
   "metadata": {},
   "source": [
    "Here, we set some parameters. MINIBATCH_SIZE is how many images we want to classify in one go. The rest of the parameters are related to image properties (3 by 32 by 32 images, 8 bits per pixel, and 348 bits per line resulting in 54 total lines to transmit one image to the FPGA)."
   ]
  },
  {
   "cell_type": "code",
   "execution_count": 3,
   "metadata": {},
   "outputs": [
    {
     "name": "stdout",
     "output_type": "stream",
     "text": [
      "num_lines per image: 64\n"
     ]
    }
   ],
   "source": [
    "## Parameters\n",
    "MINIBATCH_SIZE = 10\n",
    "height = 32\n",
    "width = 32\n",
    "pixel_bits = 8*3\n",
    "pixels_per_line = 384/pixel_bits\n",
    "num_lines = int((height*width)/pixels_per_line)\n",
    "print('num_lines per image: ' + str(num_lines))"
   ]
  },
  {
   "cell_type": "markdown",
   "metadata": {},
   "source": [
    "Next, we can load the images we want to classify to the memory and display them."
   ]
  },
  {
   "cell_type": "code",
   "execution_count": 4,
   "metadata": {
    "scrolled": true
   },
   "outputs": [
    {
     "data": {
      "image/png": "[encoded data removed]",
      "text/plain": [
       "<PIL.Image.Image image mode=RGB size=32x32 at 0xA31F96F0>"
      ]
     },
     "metadata": {},
     "output_type": "display_data"
    },
    {
     "data": {
      "image/png": "[encoded data removed]",
      "text/plain": [
       "<PIL.Image.Image image mode=RGB size=32x32 at 0xA44BF0D0>"
      ]
     },
     "metadata": {},
     "output_type": "display_data"
    },
    {
     "data": {
      "image/png": "[encoded data removed]",
      "text/plain": [
       "<PIL.Image.Image image mode=RGB size=32x32 at 0xA31F96F0>"
      ]
     },
     "metadata": {},
     "output_type": "display_data"
    },
    {
     "data": {
      "image/png": "[encoded data removed]",
      "text/plain": [
       "<PIL.Image.Image image mode=RGB size=32x32 at 0xA33BC0B0>"
      ]
     },
     "metadata": {},
     "output_type": "display_data"
    },
    {
     "data": {
      "image/png": "[encoded data removed]",
      "text/plain": [
       "<PIL.Image.Image image mode=RGB size=32x32 at 0xA44BF0D0>"
      ]
     },
     "metadata": {},
     "output_type": "display_data"
    },
    {
     "data": {
      "image/png": "[encoded data removed]",
      "text/plain": [
       "<PIL.Image.Image image mode=RGB size=32x32 at 0xA33BC0B0>"
      ]
     },
     "metadata": {},
     "output_type": "display_data"
    },
    {
     "data": {
      "image/png": "[encoded data removed]",
      "text/plain": [
       "<PIL.Image.Image image mode=RGB size=32x32 at 0xA31F96F0>"
      ]
     },
     "metadata": {},
     "output_type": "display_data"
    },
    {
     "data": {
      "image/png": "[encoded data removed]",
      "text/plain": [
       "<PIL.Image.Image image mode=RGB size=32x32 at 0xA44BF0D0>"
      ]
     },
     "metadata": {},
     "output_type": "display_data"
    },
    {
     "data": {
      "image/png": "[encoded data removed]",
      "text/plain": [
       "<PIL.Image.Image image mode=RGB size=32x32 at 0xA31F96F0>"
      ]
     },
     "metadata": {},
     "output_type": "display_data"
    },
    {
     "data": {
      "image/png": "[encoded data removed]",
      "text/plain": [
       "<PIL.Image.Image image mode=RGB size=32x32 at 0xA33BC0B0>"
      ]
     },
     "metadata": {},
     "output_type": "display_data"
    }
   ],
   "source": [
    "l = loader()\n",
    "l.load_cifar(path_to_file='test_batch', num_samples=MINIBATCH_SIZE, classes=10)\n",
    "images = np.zeros((MINIBATCH_SIZE, height, width, 3))\n",
    "for i, ret in enumerate(l.ret):\n",
    "    images[i,:,:,:] = ret[0]\n",
    "\n",
    "# Display images\n",
    "for i in range(0,MINIBATCH_SIZE):\n",
    "    display(scipy.misc.toimage( images[i,:,:,:] ))"
   ]
  },
  {
   "cell_type": "markdown",
   "metadata": {},
   "source": [
    "## 2. Execution\n",
    "Now we are ready to invoke the FPGA-based CNN to perform classification on the images that are in the memory.\n",
    "\n",
    "- We first allocate the buffers that will be used by the DMA engine, to transfer images to the FPGA and get the results back.\n",
    "- We write the images to the input buffer.\n",
    "- We set a register (numReps) on the mnist-cnn IP, by writing MINIBATCH_SIZE to address 0x10. This is how many images the IP expects the DMA engine to send.\n",
    "- We start the transfer on both receive and send channels.\n",
    "- After the execution is complete, we display the classification results. Notice that they match the images we displayed earlier. "
   ]
  },
  {
   "cell_type": "code",
   "execution_count": 5,
   "metadata": {},
   "outputs": [
    {
     "name": "stdout",
     "output_type": "stream",
     "text": [
      "allocated buffers\n"
     ]
    }
   ],
   "source": [
    "in_buffer = xlnk.cma_array(shape=(MINIBATCH_SIZE*num_lines, 64), dtype=np.uint8)\n",
    "out_buffer = xlnk.cma_array(shape=(MINIBATCH_SIZE, 10), dtype=np.float32)\n",
    "print('allocated buffers')\n",
    "\n",
    "for i in range(0,MINIBATCH_SIZE):\n",
    "    in_buffer[i*num_lines:(i+1)*num_lines, 0:48] = np.reshape(images[i,:,:,:], (num_lines, 48))\n"
   ]
  },
  {
   "cell_type": "code",
   "execution_count": 6,
   "metadata": {},
   "outputs": [],
   "source": [
    "labels = {0:\"ariplane\", 1:\"automobile\", 2:\"bird\", 3:\"cat\", 4:\"deer\", 5:\"dog\", 6:\"frog\", 7:\"horse\", 8:\"ship\", 9:\"truck\" }"
   ]
  },
  {
   "cell_type": "code",
   "execution_count": 7,
   "metadata": {},
   "outputs": [
    {
     "name": "stdout",
     "output_type": "stream",
     "text": [
      "Time per image: 0.00023229122161865233 s\n",
      "Images per second: 4304.94098327004\n",
      "ariplane\n",
      "[0 0 0 0 0 0 0 0 0 0]\n",
      "ariplane\n",
      "[0 0 0 0 0 0 0 0 0 0]\n",
      "ariplane\n",
      "[0 0 0 0 0 0 0 0 0 0]\n",
      "ariplane\n",
      "[0 0 0 0 0 0 0 0 0 0]\n",
      "ariplane\n",
      "[0 0 0 0 0 0 0 0 0 0]\n",
      "ariplane\n",
      "[0 0 0 0 0 0 0 0 0 0]\n",
      "ariplane\n",
      "[0 0 0 0 0 0 0 0 0 0]\n",
      "ariplane\n",
      "[0 0 0 0 0 0 0 0 0 0]\n",
      "ariplane\n",
      "[0 0 0 0 0 0 0 0 0 0]\n",
      "ariplane\n",
      "[0 0 0 0 0 0 0 0 0 0]\n"
     ]
    }
   ],
   "source": [
    "\n",
    "start = time.time()\n",
    "nn_ctrl.write(0x0, 0) # Reset\n",
    "nn_ctrl.write(0x10, MINIBATCH_SIZE)\n",
    "nn_ctrl.write(0x0, 1) # Deassert reset\n",
    "dma.recvchannel.transfer(out_buffer)\n",
    "dma.sendchannel.transfer(in_buffer)\n",
    "end = time.time()\n",
    "\n",
    "time_per_image = (end-start)/MINIBATCH_SIZE\n",
    "print(\"Time per image: \" + str(time_per_image) + \" s\")\n",
    "print(\"Images per second: \" + str(1.0/time_per_image))\n",
    "\n",
    "time.sleep(1)\n",
    "\n",
    "for i in range(0,MINIBATCH_SIZE):\n",
    "    print(labels[np.argmax(out_buffer[i,:])])\n",
    "    print(out_buffer[i,:])"
   ]
  },
  {
   "cell_type": "markdown",
   "metadata": {
    "collapsed": true
   },
   "source": [
    "Since we worked only on 10 images in this notebook, the maximum image processing throughput capability of the CNN is not displayed. Try increasing the MINIBATCH_SIZE to observe a much higher throughput (You might want to comment out display part to skip displaying many images). "
   ]
  },
  {
   "cell_type": "markdown",
   "metadata": {},
   "source": [
    "## Reset the device"
   ]
  },
  {
   "cell_type": "code",
   "execution_count": 8,
   "metadata": {},
   "outputs": [],
   "source": [
    "from pynq import Xlnk\n",
    "\n",
    "xlnk = Xlnk();\n",
    "xlnk.xlnk_reset()"
   ]
  },
  {
   "cell_type": "code",
   "execution_count": null,
   "metadata": {},
   "outputs": [],
   "source": []
  }
 ],
 "metadata": {
  "kernelspec": {
   "display_name": "Python 3",
   "language": "python",
   "name": "python3"
  },
  "language_info": {
   "codemirror_mode": {
    "name": "ipython",
    "version": 3
   },
   "file_extension": ".py",
   "mimetype": "text/x-python",
   "name": "python",
   "nbconvert_exporter": "python",
   "pygments_lexer": "ipython3",
   "version": "3.6.8"
  },
  "varInspector": {
   "cols": {
    "lenName": 16,
    "lenType": 16,
    "lenVar": 40
   },
   "kernels_config": {
    "python": {
     "delete_cmd_postfix": "",
     "delete_cmd_prefix": "del ",
     "library": "var_list.py",
     "varRefreshCmd": "print(var_dic_list())"
    },
    "r": {
     "delete_cmd_postfix": ") ",
     "delete_cmd_prefix": "rm(",
     "library": "var_list.r",
     "varRefreshCmd": "cat(var_dic_list()) "
    }
   },
   "types_to_exclude": [
    "module",
    "function",
    "builtin_function_or_method",
    "instance",
    "_Feature"
   ],
   "window_display": false
  }
 },
 "nbformat": 4,
 "nbformat_minor": 2
}
