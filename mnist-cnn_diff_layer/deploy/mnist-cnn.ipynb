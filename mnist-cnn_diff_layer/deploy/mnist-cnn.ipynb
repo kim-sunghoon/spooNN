{
 "cells": [
  {
   "cell_type": "markdown",
   "metadata": {},
   "source": [
    "# MNIST-CNN\n",
    "This notebook shows how to perform handwritten digit classification using the CNN implemented with spooNN."
   ]
  },
  {
   "cell_type": "markdown",
   "metadata": {},
   "source": [
    "## 1. Preparation\n",
    "First we import all the necessary components:"
   ]
  },
  {
   "cell_type": "code",
   "execution_count": 1,
   "metadata": {
    "collapsed": true
   },
   "outputs": [],
   "source": [
    "import sys\n",
    "import math\n",
    "import numpy as np\n",
    "import os\n",
    "import time\n",
    "from PIL import Image\n",
    "from matplotlib import pyplot\n",
    "import cv2\n",
    "from datetime import datetime\n",
    "from pynq import Xlnk\n",
    "from pynq import Overlay\n",
    "from pynq.mmio import MMIO\n",
    "from loader import loader\n",
    "import scipy.misc\n",
    "from IPython.display import display"
   ]
  },
  {
   "cell_type": "markdown",
   "metadata": {},
   "source": [
    "Next, we get the overlay that is in the same directory as this notebook. This is loaded onto the FPGA fabric on the PYNQ.\n",
    "Then, a handle to the spooNN IP is obtained via nn_ctrl. Using this, we are able to write to the registers of the IP to configure it."
   ]
  },
  {
   "cell_type": "code",
   "execution_count": 2,
   "metadata": {},
   "outputs": [
    {
     "name": "stdout",
     "output_type": "stream",
     "text": [
      "Got nn_ctrl!\n"
     ]
    }
   ],
   "source": [
    "OVERLAY_PATH = 'overlay.bit'\n",
    "overlay = Overlay(OVERLAY_PATH)\n",
    "dma = overlay.axi_dma_0\n",
    "\n",
    "xlnk = Xlnk()\n",
    "nn_ctrl = MMIO(0x43c00000, length=1024)\n",
    "print('Got nn_ctrl!')"
   ]
  },
  {
   "cell_type": "markdown",
   "metadata": {},
   "source": [
    "Here, we set some parameters. MINIBATCH_SIZE is how many images we want to classify in one go. The rest of the parameters are related to image properties (28 by 28 images, 8 bits per pixel, and 448 bits per line resulting in 14 total lines to transmit one image to the FPGA)."
   ]
  },
  {
   "cell_type": "code",
   "execution_count": 3,
   "metadata": {},
   "outputs": [
    {
     "name": "stdout",
     "output_type": "stream",
     "text": [
      "num_lines per image: 14\n"
     ]
    }
   ],
   "source": [
    "## Parameters\n",
    "MINIBATCH_SIZE = 10\n",
    "height = 28\n",
    "width = 28\n",
    "pixel_bits = 8\n",
    "pixels_per_line = 448/pixel_bits\n",
    "num_lines = int((height*width)/pixels_per_line)\n",
    "print('num_lines per image: ' + str(num_lines))"
   ]
  },
  {
   "cell_type": "markdown",
   "metadata": {},
   "source": [
    "Let's download the data set if it is not yet there, by executing the following bash script. If you don't have internet access from your PYNQ, you might have to execute this script on your host machine and then scp mnist.t to this directory."
   ]
  },
  {
   "cell_type": "code",
   "execution_count": 4,
   "metadata": {
    "scrolled": false
   },
   "outputs": [
    {
     "name": "stdout",
     "output_type": "stream",
     "text": [
      "[mnist.t] Nothing to do. Data is there.\r\n"
     ]
    }
   ],
   "source": [
    "!chmod u+x get_mnist.sh\n",
    "!./get_mnist.sh"
   ]
  },
  {
   "cell_type": "markdown",
   "metadata": {},
   "source": [
    "Next, we can load the images we want to classify to the memory and display them."
   ]
  },
  {
   "cell_type": "code",
   "execution_count": 5,
   "metadata": {
    "scrolled": true
   },
   "outputs": [
    {
     "data": {
      "image/png": "[encoded data removed]",
      "text/plain": [
       "<PIL.Image.Image image mode=L size=28x28 at 0x279F2E70>"
      ]
     },
     "metadata": {},
     "output_type": "display_data"
    },
    {
     "data": {
      "image/png": "[encoded data removed]",
      "text/plain": [
       "<PIL.Image.Image image mode=L size=28x28 at 0x279F2ED0>"
      ]
     },
     "metadata": {},
     "output_type": "display_data"
    },
    {
     "data": {
      "image/png": "[encoded data removed]",
      "text/plain": [
       "<PIL.Image.Image image mode=L size=28x28 at 0x279F2E90>"
      ]
     },
     "metadata": {},
     "output_type": "display_data"
    },
    {
     "data": {
      "image/png": "[encoded data removed]",
      "text/plain": [
       "<PIL.Image.Image image mode=L size=28x28 at 0x279F2E90>"
      ]
     },
     "metadata": {},
     "output_type": "display_data"
    },
    {
     "data": {
      "image/png": "[encoded data removed]",
      "text/plain": [
       "<PIL.Image.Image image mode=L size=28x28 at 0x279F2E70>"
      ]
     },
     "metadata": {},
     "output_type": "display_data"
    },
    {
     "data": {
      "image/png": "[encoded data removed]",
      "text/plain": [
       "<PIL.Image.Image image mode=L size=28x28 at 0x279F2E90>"
      ]
     },
     "metadata": {},
     "output_type": "display_data"
    },
    {
     "data": {
      "image/png": "[encoded data removed]",
      "text/plain": [
       "<PIL.Image.Image image mode=L size=28x28 at 0x279F2E70>"
      ]
     },
     "metadata": {},
     "output_type": "display_data"
    },
    {
     "data": {
      "image/png": "[encoded data removed]",
      "text/plain": [
       "<PIL.Image.Image image mode=L size=28x28 at 0x279F2E90>"
      ]
     },
     "metadata": {},
     "output_type": "display_data"
    },
    {
     "data": {
      "image/png": "[encoded data removed]",
      "text/plain": [
       "<PIL.Image.Image image mode=L size=28x28 at 0x279F2E70>"
      ]
     },
     "metadata": {},
     "output_type": "display_data"
    },
    {
     "data": {
      "image/png": "[encoded data removed]",
      "text/plain": [
       "<PIL.Image.Image image mode=L size=28x28 at 0x279F2E70>"
      ]
     },
     "metadata": {},
     "output_type": "display_data"
    }
   ],
   "source": [
    "# Read images from file\n",
    "l = loader()\n",
    "l.load_libsvm_data('mnist.t', num_samples=MINIBATCH_SIZE, num_features=784, one_hot=0, classes=None)\n",
    "images = np.zeros((MINIBATCH_SIZE,28,28))\n",
    "for i in range(0, MINIBATCH_SIZE):\n",
    "    images[i,:,:] = (l.a[i].reshape((28,28))).astype('int')\n",
    "    \n",
    "# Display images\n",
    "for i in range(0,MINIBATCH_SIZE):\n",
    "    display(scipy.misc.toimage( images[i,:,:] ))"
   ]
  },
  {
   "cell_type": "markdown",
   "metadata": {},
   "source": [
    "## 2. Execution\n",
    "Now we are ready to invoke the FPGA-based CNN to perform classification on the images that are in the memory.\n",
    "\n",
    "- We first allocate the buffers that will be used by the DMA engine, to transfer images to the FPGA and get the results back.\n",
    "- We write the images to the input buffer.\n",
    "- We set a register (numReps) on the mnist-cnn IP, by writing MINIBATCH_SIZE to address 0x10. This is how many images the IP expects the DMA engine to send.\n",
    "- We start the transfer on both receive and send channels.\n",
    "- After the execution is complete, we display the classification results. Notice that they match the images we displayed earlier. "
   ]
  },
  {
   "cell_type": "code",
   "execution_count": 6,
   "metadata": {},
   "outputs": [
    {
     "name": "stdout",
     "output_type": "stream",
     "text": [
      "allocated buffers\n",
      "Time per image: 0.00024547576904296873 s\n",
      "Images per second: 4073.721833721834\n",
      "7\n",
      "2\n",
      "1\n",
      "0\n",
      "4\n",
      "1\n",
      "4\n",
      "9\n",
      "5\n",
      "9\n"
     ]
    }
   ],
   "source": [
    "in_buffer = xlnk.cma_array(shape=(MINIBATCH_SIZE*num_lines, 64), dtype=np.uint8)\n",
    "out_buffer = xlnk.cma_array(shape=(MINIBATCH_SIZE, 16), dtype=np.int32)\n",
    "print('allocated buffers')\n",
    "\n",
    "for i in range(0,MINIBATCH_SIZE):\n",
    "    in_buffer[i*num_lines:(i+1)*num_lines, 0:56] = np.reshape(images[i,:,:], (num_lines, 56))\n",
    "\n",
    "start = time.time()\n",
    "nn_ctrl.write(0x0, 0) # Reset\n",
    "nn_ctrl.write(0x10, MINIBATCH_SIZE)\n",
    "nn_ctrl.write(0x0, 1) # Deassert reset\n",
    "dma.recvchannel.transfer(out_buffer)\n",
    "dma.sendchannel.transfer(in_buffer)\n",
    "end = time.time()\n",
    "\n",
    "time_per_image = (end-start)/MINIBATCH_SIZE\n",
    "print(\"Time per image: \" + str(time_per_image) + \" s\")\n",
    "print(\"Images per second: \" + str(1.0/time_per_image))\n",
    "\n",
    "time.sleep(1)\n",
    "\n",
    "for i in range(0,MINIBATCH_SIZE):\n",
    "    print(str(np.argmax(out_buffer[i,:])))"
   ]
  },
  {
   "cell_type": "markdown",
   "metadata": {
    "collapsed": true
   },
   "source": [
    "Since we worked only on 10 images in this notebook, the maximum image processing throughput capability of the CNN is not displayed. Try increasing the MINIBATCH_SIZE to observe a much higher throughput (You might want to comment out display part to skip displaying many images). "
   ]
  },
  {
   "cell_type": "code",
   "execution_count": null,
   "metadata": {
    "collapsed": true
   },
   "outputs": [],
   "source": []
  }
 ],
 "metadata": {
  "kernelspec": {
   "display_name": "Python 3",
   "language": "python",
   "name": "python3"
  },
  "language_info": {
   "codemirror_mode": {
    "name": "ipython",
    "version": 3
   },
   "file_extension": ".py",
   "mimetype": "text/x-python",
   "name": "python",
   "nbconvert_exporter": "python",
   "pygments_lexer": "ipython3",
   "version": "3.6.0"
  }
 },
 "nbformat": 4,
 "nbformat_minor": 2
}
